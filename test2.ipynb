{
 "cells": [
  {
   "cell_type": "code",
   "execution_count": 2,
   "metadata": {},
   "outputs": [
    {
     "ename": "AttributeError",
     "evalue": "'NoneType' object has no attribute 'wrap'",
     "output_type": "error",
     "traceback": [
      "\u001b[1;31m---------------------------------------------------------------------------\u001b[0m",
      "\u001b[1;31mAttributeError\u001b[0m                            Traceback (most recent call last)",
      "Cell \u001b[1;32mIn[2], line 33\u001b[0m\n\u001b[0;32m     31\u001b[0m     div_tag\u001b[39m.\u001b[39mextend(li_tag\u001b[39m.\u001b[39mcontents)\n\u001b[0;32m     32\u001b[0m     \u001b[39m# wrap the contents of the div tag with a span tag\u001b[39;00m\n\u001b[1;32m---> 33\u001b[0m     div_tag\u001b[39m.\u001b[39;49mspan\u001b[39m.\u001b[39;49mwrap(soup\u001b[39m.\u001b[39mnew_tag(\u001b[39m'\u001b[39m\u001b[39mspan\u001b[39m\u001b[39m'\u001b[39m, attrs\u001b[39m=\u001b[39m{\u001b[39m'\u001b[39m\u001b[39mclass\u001b[39m\u001b[39m'\u001b[39m: \u001b[39m'\u001b[39m\u001b[39melement-citation\u001b[39m\u001b[39m'\u001b[39m}))\n\u001b[0;32m     35\u001b[0m \u001b[39m# output the modified HTML\u001b[39;00m\n\u001b[0;32m     36\u001b[0m \u001b[39mprint\u001b[39m(soup)\n",
      "\u001b[1;31mAttributeError\u001b[0m: 'NoneType' object has no attribute 'wrap'"
     ]
    }
   ],
   "source": [
    "from bs4 import BeautifulSoup\n",
    "\n",
    "html_doc = '''\n",
    "<span>It has no error. Instead, it outputs prints this </span>\n",
    "<ol>\n",
    "    <li data-list-text=\"[1]\">\n",
    "        <p style=\"padding-left: 25pt;text-indent: -17pt;text-align: left;\">Wilson, Douglas &amp; Sicart, Miguel.\n",
    "            2010. Now It’s Personal: On Abusive Game Design. Future Play 2010.</p>\n",
    "    </li>\n",
    "    <li data-list-text=\"[2]\">\n",
    "        <p style=\"padding-left: 25pt;text-indent: -17pt;text-align: left;\">Zimmerman, Eric. 2012. Jerked Around by\n",
    "            the Magic Circle �� Clearing the Air Ten Years Later. Gamasutra.com</p>\n",
    "    </li>\n",
    "</ol>\n",
    "<script src=\"\" async defer></script>\n",
    "'''\n",
    "\n",
    "soup = BeautifulSoup(html_doc, 'html.parser')\n",
    "\n",
    "# find all the <li> tags\n",
    "li_tags = soup.find_all('li')\n",
    "\n",
    "# loop through the <li> tags and wrap their contents with <div> and <span> tags\n",
    "\n",
    "for li_tag in li_tags:\n",
    "    # create a new div tag\n",
    "    div_tag = soup.new_tag('div', attrs={'class': 'ref-cit-blk half_rhythm'})\n",
    "    # insert the new div tag before the li tag\n",
    "    li_tag.insert_before(div_tag)\n",
    "    # move the contents of the li tag to the new div tag\n",
    "    div_tag.extend(li_tag.contents)\n",
    "    # wrap the contents of the div tag with a span tag\n",
    "    div_tag.span.wrap(soup.new_tag('span', attrs={'class': 'element-citation'}))\n",
    "\n",
    "# output the modified HTML\n",
    "print(soup)\n"
   ]
  }
 ],
 "metadata": {
  "kernelspec": {
   "display_name": "Python 3",
   "language": "python",
   "name": "python3"
  },
  "language_info": {
   "codemirror_mode": {
    "name": "ipython",
    "version": 3
   },
   "file_extension": ".py",
   "mimetype": "text/x-python",
   "name": "python",
   "nbconvert_exporter": "python",
   "pygments_lexer": "ipython3",
   "version": "3.10.10"
  },
  "orig_nbformat": 4
 },
 "nbformat": 4,
 "nbformat_minor": 2
}
